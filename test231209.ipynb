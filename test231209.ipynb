{
  "nbformat": 4,
  "nbformat_minor": 0,
  "metadata": {
    "colab": {
      "provenance": [],
      "authorship_tag": "ABX9TyP161j1D70dMptIx+VFZUKd",
      "include_colab_link": true
    },
    "kernelspec": {
      "name": "python3",
      "display_name": "Python 3"
    },
    "language_info": {
      "name": "python"
    }
  },
  "cells": [
    {
      "cell_type": "markdown",
      "metadata": {
        "id": "view-in-github",
        "colab_type": "text"
      },
      "source": [
        "<a href=\"https://colab.research.google.com/github/cloudenvtest/test_repo/blob/main/test231209.ipynb\" target=\"_parent\"><img src=\"https://colab.research.google.com/assets/colab-badge.svg\" alt=\"Open In Colab\"/></a>"
      ]
    },
    {
      "cell_type": "code",
      "execution_count": 1,
      "metadata": {
        "id": "tQi4q91FO2P8"
      },
      "outputs": [],
      "source": [
        "### Test\n",
        "- radek jedna"
      ]
    },
    {
      "cell_type": "markdown",
      "source": [
        "### Text2\n",
        "- Riadok1"
      ],
      "metadata": {
        "id": "rtIIItI6P23R"
      }
    },
    {
      "cell_type": "markdown",
      "source": [],
      "metadata": {
        "id": "WhNZvMV9P10I"
      }
    }
  ]
}